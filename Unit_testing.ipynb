{
 "cells": [
  {
   "cell_type": "markdown",
   "id": "e3b83d11-8fd8-4e58-bb62-a03a0ad305e8",
   "metadata": {},
   "source": [
    "# Unit Testing"
   ]
  },
  {
   "cell_type": "markdown",
   "id": "afe8a54b-dd08-4a31-b437-eaa01ea38d25",
   "metadata": {},
   "source": [
    "## 1. Introduction to Unit Testing"
   ]
  },
  {
   "cell_type": "markdown",
   "id": "654f86ca-8cac-41dc-9be0-0115a5cc0147",
   "metadata": {},
   "source": [
    "Unit testing involves testing the smallest parts of an application in isolation (e.g., functions or methods). Python's built-in module \"unittest\" is commonly used for this purpose."
   ]
  },
  {
   "cell_type": "markdown",
   "id": "4523e477-7d45-4669-8efe-99de4de79282",
   "metadata": {},
   "source": [
    "## 2. Define a function that should be tested"
   ]
  },
  {
   "cell_type": "markdown",
   "id": "557ee237-4ffe-480b-b239-161ba10c1980",
   "metadata": {},
   "source": [
    "This function could be anything from a simple moving average to a more complex operation. For this example, let's use a simple moving average (SMA) calculation, which is common in time series data analysis."
   ]
  },
  {
   "cell_type": "code",
   "execution_count": 1,
   "id": "6503f398-5247-42f4-ace4-c89e0f617b43",
   "metadata": {},
   "outputs": [],
   "source": [
    "def simple_moving_average(time_series, window_size):\n",
    "    \"\"\"\n",
    "    Calculates the Simple Moving Average for a given time series and window size.\n",
    "\n",
    "    :param time_series: List of numbers representing the time series.\n",
    "    :param window_size: The number of data points to consider for each average.\n",
    "    :return: A list of averages with length = len(time_series) - window_size + 1\n",
    "    \"\"\"\n",
    "    if not time_series or window_size <= 0:\n",
    "        raise ValueError(\"Invalid time_series or window_size\")\n",
    "\n",
    "    return [\n",
    "        sum(time_series[ii:ii + window_size]) / window_size\n",
    "        for ii in range"
   ]
  },
  {
   "cell_type": "markdown",
   "id": "4919a30d-5da7-4e73-aa38-c9a2af8e1d08",
   "metadata": {},
   "source": [
    "## 3. Writing Unit Tests"
   ]
  },
  {
   "cell_type": "markdown",
   "id": "06c14bf7-0f0f-46fe-91ae-66d80fc54c4a",
   "metadata": {},
   "source": [
    "Basic structure of the test:"
   ]
  },
  {
   "cell_type": "code",
   "execution_count": 2,
   "id": "93aeacd7-fd57-4487-a9dc-661c8191145b",
   "metadata": {},
   "outputs": [],
   "source": [
    "import unittest\n",
    "\n",
    "class TestSimpleMovingAverage(unittest.TestCase):\n",
    "    def test_basic_functionality(self):\n",
    "        self.assertEqual(\n",
    "            simple_moving_average([1, 2, 3, 4, 5], 2),\n",
    "            [1.5, 2.5, 3.5, 4.5]\n",
    "        )\n",
    "\n",
    "    def test_invalid_input(self):\n",
    "        with self.assertRaises(ValueError):\n",
    "            simple_moving_average([], 2)\n",
    "        with self.assertRaises(ValueError):\n",
    "            simple_moving_average([1, 2, 3], -1)\n",
    "\n",
    "    # And the tests that we decide to do\n"
   ]
  },
  {
   "cell_type": "markdown",
   "id": "5d960b22-b434-450d-9f75-3be0553a87ea",
   "metadata": {},
   "source": [
    "# 4. Run the Unit Tests"
   ]
  },
  {
   "cell_type": "markdown",
   "id": "0d6cb513-93ce-4d9d-b6d5-98137894f396",
   "metadata": {},
   "source": [
    "This line runs the unit tests. The argv=[''] argument is necessary to prevent the unittest framework from trying to parse the notebook's command line arguments, and exit=False prevents it from closing the notebook kernel."
   ]
  },
  {
   "cell_type": "code",
   "execution_count": 3,
   "id": "7689bff6-4ed4-4bf6-8c4a-b35e38e0e4d0",
   "metadata": {},
   "outputs": [
    {
     "name": "stderr",
     "output_type": "stream",
     "text": [
      "..\n",
      "----------------------------------------------------------------------\n",
      "Ran 2 tests in 0.002s\n",
      "\n",
      "OK\n"
     ]
    },
    {
     "data": {
      "text/plain": [
       "<unittest.main.TestProgram at 0x10b5f6f50>"
      ]
     },
     "execution_count": 3,
     "metadata": {},
     "output_type": "execute_result"
    }
   ],
   "source": [
    "unittest.main(argv=[''], exit=False)"
   ]
  },
  {
   "cell_type": "code",
   "execution_count": null,
   "id": "5e207677-e0a1-458c-a709-a91a7e421cbc",
   "metadata": {},
   "outputs": [],
   "source": []
  }
 ],
 "metadata": {
  "kernelspec": {
   "display_name": "Python 3 (ipykernel)",
   "language": "python",
   "name": "python3"
  },
  "language_info": {
   "codemirror_mode": {
    "name": "ipython",
    "version": 3
   },
   "file_extension": ".py",
   "mimetype": "text/x-python",
   "name": "python",
   "nbconvert_exporter": "python",
   "pygments_lexer": "ipython3",
   "version": "3.11.5"
  }
 },
 "nbformat": 4,
 "nbformat_minor": 5
}
